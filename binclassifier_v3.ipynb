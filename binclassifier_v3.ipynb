{
  "nbformat": 4,
  "nbformat_minor": 0,
  "metadata": {
    "colab": {
      "name": "binclassifier_v3.ipynb",
      "version": "0.3.2",
      "provenance": [],
      "collapsed_sections": []
    },
    "kernelspec": {
      "name": "python3",
      "display_name": "Python 3"
    }
  },
  "cells": [
    {
      "cell_type": "code",
      "metadata": {
        "id": "8wEPMrCCycAb",
        "colab_type": "code",
        "outputId": "b7b18173-d50a-461d-8c37-6a2a8b5b8c39",
        "colab": {
          "base_uri": "https://localhost:8080/",
          "height": 35
        }
      },
      "source": [
        "from google.colab import drive\n",
        "drive.mount('/content/drive')"
      ],
      "execution_count": 0,
      "outputs": [
        {
          "output_type": "stream",
          "text": [
            "Drive already mounted at /content/drive; to attempt to forcibly remount, call drive.mount(\"/content/drive\", force_remount=True).\n"
          ],
          "name": "stdout"
        }
      ]
    },
    {
      "cell_type": "code",
      "metadata": {
        "id": "crVThZG4ykDJ",
        "colab_type": "code",
        "colab": {}
      },
      "source": [
        "%reload_ext autoreload\n",
        "%autoreload 2\n",
        "%matplotlib inline"
      ],
      "execution_count": 0,
      "outputs": []
    },
    {
      "cell_type": "code",
      "metadata": {
        "id": "PuxVsO6oym25",
        "colab_type": "code",
        "colab": {}
      },
      "source": [
        "from fastai.text import *"
      ],
      "execution_count": 0,
      "outputs": []
    },
    {
      "cell_type": "code",
      "metadata": {
        "id": "S5X6QMu9yupT",
        "colab_type": "code",
        "colab": {}
      },
      "source": [
        "bs = 10\n",
        "path = '/content/drive/My Drive/Datasets/Liar'\n",
        "data_lm = TextLMDataBunch.from_csv(path, 'trainfinal.csv', text_cols = 1)"
      ],
      "execution_count": 0,
      "outputs": []
    },
    {
      "cell_type": "code",
      "metadata": {
        "id": "VOKYV8Khy0fx",
        "colab_type": "code",
        "outputId": "3e4c3058-e0de-42d4-f8d6-d801320368f7",
        "colab": {
          "base_uri": "https://localhost:8080/",
          "height": 544
        }
      },
      "source": [
        "data_lm.show_batch()"
      ],
      "execution_count": 0,
      "outputs": [
        {
          "output_type": "display_data",
          "data": {
            "text/html": [
              "<table border=\"1\" class=\"dataframe\">\n",
              "  <thead>\n",
              "    <tr style=\"text-align: right;\">\n",
              "      <th>idx</th>\n",
              "      <th>text</th>\n",
              "    </tr>\n",
              "  </thead>\n",
              "  <tbody>\n",
              "    <tr>\n",
              "      <td>0</td>\n",
              "      <td>she declared her candidacy for xxmaj congress , the redistricting process was manipulated to allow incumbent politicians to guarantee their re - election . xxbos xxmaj says xxmaj connie xxmaj mack voted to redefine rape as forcible rape . xxbos xxmaj says xxmaj florida rubber - xxunk phony horse racing . xxbos xxmaj says that in 2009 , xxmaj jon xxmaj xxunk said that the xxmaj recovery xxmaj act was</td>\n",
              "    </tr>\n",
              "    <tr>\n",
              "      <td>1</td>\n",
              "      <td>that you must openly embrace gay marriage and homosexuality . xxbos xxmaj the most xxunk estimates for jobs created by xxmaj keystone xxup xl are maybe 2,000 jobs during the construction of the pipeline . xxbos xxmaj says a poll found him the only xxmaj republican candidate who could beat xxmaj barack xxmaj obama in xxmaj texas -- and by eight points . xxbos i ve never voted for a</td>\n",
              "    </tr>\n",
              "    <tr>\n",
              "      <td>2</td>\n",
              "      <td>to xxunk a xxmaj maine xxmaj xxunk farm and $ xxunk million for a xxmaj vermont xxunk trail . xxbos xxmaj last year , handguns killed 48 people in xxmaj japan , 8 in xxmaj great xxmaj britain , 34 in xxmaj switzerland , 52 in xxmaj canada , 58 in xxmaj israel , 21 in xxmaj xxunk , 42 in xxmaj west xxmaj germany and xxunk in the xxmaj</td>\n",
              "    </tr>\n",
              "    <tr>\n",
              "      <td>3</td>\n",
              "      <td>says xxmaj ken xxmaj cuccinelli wants to eliminate all forms of birth control . xxbos xxmaj our race was the closest xxup u.s. xxmaj senate race in xxmaj ohio in 36 years -- when xxmaj howard xxmaj xxunk defeated xxmaj robert xxmaj xxunk in 1976 . xxbos xxup xxunk has xxunk employees , the lowest level since the xxunk . xxbos xxmaj thanks to xxmaj president xxmaj bush 's policies</td>\n",
              "    </tr>\n",
              "    <tr>\n",
              "      <td>4</td>\n",
              "      <td>xxmaj says xxmaj tim xxmaj pawlenty said in 2006 , xxmaj the era of small government is over ... the government has to be more xxunk and more aggressive . xxbos ( xxmaj strickland ) raised taxes last year to the tune of $ xxunk million . xxbos xxmaj ohio has lost more population than every other state in the country except for two . xxbos xxmaj congress gave an</td>\n",
              "    </tr>\n",
              "  </tbody>\n",
              "</table>"
            ],
            "text/plain": [
              "<IPython.core.display.HTML object>"
            ]
          },
          "metadata": {
            "tags": []
          }
        }
      ]
    },
    {
      "cell_type": "code",
      "metadata": {
        "id": "14QAV1Wey4dK",
        "colab_type": "code",
        "colab": {}
      },
      "source": [
        "learn_m = language_model_learner(data_lm, AWD_LSTM, drop_mult=0.5)"
      ],
      "execution_count": 0,
      "outputs": []
    },
    {
      "cell_type": "code",
      "metadata": {
        "id": "dn0mQqnQy6_3",
        "colab_type": "code",
        "colab": {}
      },
      "source": [
        "learn_m.lr_find()"
      ],
      "execution_count": 0,
      "outputs": []
    },
    {
      "cell_type": "code",
      "metadata": {
        "id": "u8egOtDQy92f",
        "colab_type": "code",
        "colab": {}
      },
      "source": [
        "learn_m.recorder.plot(skip_end=15)"
      ],
      "execution_count": 0,
      "outputs": []
    },
    {
      "cell_type": "code",
      "metadata": {
        "id": "BeGtxl4MzB7k",
        "colab_type": "code",
        "outputId": "7b09ad86-56ba-4948-8ba3-ec656d457344",
        "colab": {
          "base_uri": "https://localhost:8080/",
          "height": 78
        }
      },
      "source": [
        "learn_m.fit_one_cycle(1, 1e-2)"
      ],
      "execution_count": 0,
      "outputs": [
        {
          "output_type": "display_data",
          "data": {
            "text/html": [
              "<table border=\"1\" class=\"dataframe\">\n",
              "  <thead>\n",
              "    <tr style=\"text-align: left;\">\n",
              "      <th>epoch</th>\n",
              "      <th>train_loss</th>\n",
              "      <th>valid_loss</th>\n",
              "      <th>accuracy</th>\n",
              "      <th>time</th>\n",
              "    </tr>\n",
              "  </thead>\n",
              "  <tbody>\n",
              "    <tr>\n",
              "      <td>0</td>\n",
              "      <td>4.114494</td>\n",
              "      <td>3.612575</td>\n",
              "      <td>0.324684</td>\n",
              "      <td>08:43</td>\n",
              "    </tr>\n",
              "  </tbody>\n",
              "</table>"
            ],
            "text/plain": [
              "<IPython.core.display.HTML object>"
            ]
          },
          "metadata": {
            "tags": []
          }
        }
      ]
    },
    {
      "cell_type": "code",
      "metadata": {
        "id": "9lkUwhVI3LjC",
        "colab_type": "code",
        "colab": {}
      },
      "source": [
        "learn_m.save('binlangmodel_lmf_1_e1')"
      ],
      "execution_count": 0,
      "outputs": []
    },
    {
      "cell_type": "code",
      "metadata": {
        "id": "_GpDfqVn3WpI",
        "colab_type": "code",
        "colab": {}
      },
      "source": [
        "learn_m.load('binlangmodel_lmf_1_e1');"
      ],
      "execution_count": 0,
      "outputs": []
    },
    {
      "cell_type": "code",
      "metadata": {
        "id": "AODM4qQo3ban",
        "colab_type": "code",
        "outputId": "be9c41d7-3b4c-4c94-a901-ba434cdd8d16",
        "colab": {
          "base_uri": "https://localhost:8080/",
          "height": 138
        }
      },
      "source": [
        "learn_m.fit_one_cycle(3,1e-2)"
      ],
      "execution_count": 0,
      "outputs": [
        {
          "output_type": "display_data",
          "data": {
            "text/html": [
              "<table border=\"1\" class=\"dataframe\">\n",
              "  <thead>\n",
              "    <tr style=\"text-align: left;\">\n",
              "      <th>epoch</th>\n",
              "      <th>train_loss</th>\n",
              "      <th>valid_loss</th>\n",
              "      <th>accuracy</th>\n",
              "      <th>time</th>\n",
              "    </tr>\n",
              "  </thead>\n",
              "  <tbody>\n",
              "    <tr>\n",
              "      <td>0</td>\n",
              "      <td>3.533555</td>\n",
              "      <td>3.408056</td>\n",
              "      <td>0.368434</td>\n",
              "      <td>08:38</td>\n",
              "    </tr>\n",
              "    <tr>\n",
              "      <td>1</td>\n",
              "      <td>3.343772</td>\n",
              "      <td>3.345570</td>\n",
              "      <td>0.375260</td>\n",
              "      <td>08:34</td>\n",
              "    </tr>\n",
              "    <tr>\n",
              "      <td>2</td>\n",
              "      <td>3.130611</td>\n",
              "      <td>3.332510</td>\n",
              "      <td>0.376879</td>\n",
              "      <td>08:35</td>\n",
              "    </tr>\n",
              "  </tbody>\n",
              "</table>"
            ],
            "text/plain": [
              "<IPython.core.display.HTML object>"
            ]
          },
          "metadata": {
            "tags": []
          }
        }
      ]
    },
    {
      "cell_type": "code",
      "metadata": {
        "id": "Xgy8E_j83n-P",
        "colab_type": "code",
        "colab": {}
      },
      "source": [
        "learn_m.save('binlangmodel_lmf_1_e4')"
      ],
      "execution_count": 0,
      "outputs": []
    },
    {
      "cell_type": "code",
      "metadata": {
        "id": "yZu0mKc03uBV",
        "colab_type": "code",
        "colab": {}
      },
      "source": [
        "learn_m.save_encoder('binlangmodel_lmf_1_e4_enc')"
      ],
      "execution_count": 0,
      "outputs": []
    },
    {
      "cell_type": "markdown",
      "metadata": {
        "id": "XNHq0Og-4hpe",
        "colab_type": "text"
      },
      "source": [
        "classifier\n"
      ]
    },
    {
      "cell_type": "code",
      "metadata": {
        "id": "szut6lT74hPS",
        "colab_type": "code",
        "colab": {}
      },
      "source": [
        "data_path = '/content/drive/My Drive/Datasets/Liar/'\n",
        "data_clas = TextClasDataBunch.from_csv(data_path, 'trainfinal.csv', text_cols=1, label_cols=2, vocab = data_lm.train_ds.vocab,bs=32)\n",
        "data_clas.save('data_clas_bin_lmf_csv.pkl')"
      ],
      "execution_count": 0,
      "outputs": []
    },
    {
      "cell_type": "code",
      "metadata": {
        "id": "5d598_0l5cpE",
        "colab_type": "code",
        "colab": {}
      },
      "source": [
        "path ='/content/drive/My Drive/Datasets/Liar'\n",
        "data_clas = load_data(path, 'data_clas_bin_lmf_csv.pkl', bs=16)"
      ],
      "execution_count": 0,
      "outputs": []
    },
    {
      "cell_type": "code",
      "metadata": {
        "id": "D9K0EV0Y5gX_",
        "colab_type": "code",
        "outputId": "592ec9f9-8095-4ddb-b71d-dbe4a6ece330",
        "colab": {
          "base_uri": "https://localhost:8080/",
          "height": 492
        }
      },
      "source": [
        "data_clas.show_batch()"
      ],
      "execution_count": 0,
      "outputs": [
        {
          "output_type": "display_data",
          "data": {
            "text/html": [
              "<table border=\"1\" class=\"dataframe\">\n",
              "  <thead>\n",
              "    <tr style=\"text-align: right;\">\n",
              "      <th>text</th>\n",
              "      <th>target</th>\n",
              "    </tr>\n",
              "  </thead>\n",
              "  <tbody>\n",
              "    <tr>\n",
              "      <td>xxbos xxmaj barbara xxmaj buono by the numbers : xxmaj as a xxmaj trenton politician , she voted to raise taxes 154 times . xxmaj under her , property taxes up 70 percent . xxmaj backed a 16 percent sales tax increase . xxmaj utilities , nursing homes , cell phones , xxunk lots , lottery wins , xxunk xxmaj she taxed them all . xxmaj architect of xxmaj xxunk</td>\n",
              "      <td>True</td>\n",
              "    </tr>\n",
              "    <tr>\n",
              "      <td>xxbos xxmaj there s a tax credit of $ 2,400 to bond [ former inmates ] that an employer would get for hiring a convicted felon . xxmaj there s a federal bonding program -- you can get $ 5,000 to $ 25,000 in federal money to hire a convicted felon . xxmaj and there s federal grants for felons to set up their own small businesses .</td>\n",
              "      <td>True</td>\n",
              "    </tr>\n",
              "    <tr>\n",
              "      <td>xxbos a request for \" an increase in troops sat on desks in this xxmaj white xxmaj house ( during the presidency of xxmaj george xxup w. xxmaj bush ) , including the vice president 's , for more than eight months , a resource request filled by xxmaj president xxmaj obama in xxmaj march . \"</td>\n",
              "      <td>True</td>\n",
              "    </tr>\n",
              "    <tr>\n",
              "      <td>xxbos xxmaj at the beginning of the last decade ... xxmaj america had a budget surplus of over $ 200 billion . xxmaj by the time i took office , we had a one - year deficit of over $ 1 trillion and projected deficits of $ 8 trillion over the next decade .</td>\n",
              "      <td>True</td>\n",
              "    </tr>\n",
              "    <tr>\n",
              "      <td>xxbos xxmaj new xxmaj jersey today has fewer employees in state government than it had when xxmaj christie xxmaj whitman left office in xxmaj january of 2001 , and i think that s good . xxmaj and we did it without any layoffs . xxmaj we did it through attrition .</td>\n",
              "      <td>False</td>\n",
              "    </tr>\n",
              "  </tbody>\n",
              "</table>"
            ],
            "text/plain": [
              "<IPython.core.display.HTML object>"
            ]
          },
          "metadata": {
            "tags": []
          }
        }
      ]
    },
    {
      "cell_type": "code",
      "metadata": {
        "id": "cugELLCt5kzd",
        "colab_type": "code",
        "colab": {}
      },
      "source": [
        "learn_bin = text_classifier_learner(data_clas, AWD_LSTM, drop_mult=0.5)\n",
        "learn_bin.load_encoder('binlangmodel_lmf_1_e4_enc')"
      ],
      "execution_count": 0,
      "outputs": []
    },
    {
      "cell_type": "code",
      "metadata": {
        "id": "KB8iA5rjXBXr",
        "colab_type": "code",
        "colab": {}
      },
      "source": [
        "learn_bin.recorder.plot()"
      ],
      "execution_count": 0,
      "outputs": []
    },
    {
      "cell_type": "code",
      "metadata": {
        "id": "a9fo_CtH5vy_",
        "colab_type": "code",
        "outputId": "57934443-4eaa-4ab6-8e3b-bd6f4ed2ee3c",
        "colab": {
          "base_uri": "https://localhost:8080/",
          "height": 78
        }
      },
      "source": [
        "learn_bin.fit_one_cycle(1, 1e-2)"
      ],
      "execution_count": 0,
      "outputs": [
        {
          "output_type": "display_data",
          "data": {
            "text/html": [
              "<table border=\"1\" class=\"dataframe\">\n",
              "  <thead>\n",
              "    <tr style=\"text-align: left;\">\n",
              "      <th>epoch</th>\n",
              "      <th>train_loss</th>\n",
              "      <th>valid_loss</th>\n",
              "      <th>accuracy</th>\n",
              "      <th>time</th>\n",
              "    </tr>\n",
              "  </thead>\n",
              "  <tbody>\n",
              "    <tr>\n",
              "      <td>0</td>\n",
              "      <td>0.561765</td>\n",
              "      <td>0.596614</td>\n",
              "      <td>0.708496</td>\n",
              "      <td>07:04</td>\n",
              "    </tr>\n",
              "  </tbody>\n",
              "</table>"
            ],
            "text/plain": [
              "<IPython.core.display.HTML object>"
            ]
          },
          "metadata": {
            "tags": []
          }
        }
      ]
    },
    {
      "cell_type": "code",
      "metadata": {
        "id": "_vwl7inF5zjJ",
        "colab_type": "code",
        "colab": {}
      },
      "source": [
        "learn_bin.save('classifier_bin_lmf_1_e1')"
      ],
      "execution_count": 0,
      "outputs": []
    },
    {
      "cell_type": "code",
      "metadata": {
        "id": "_dmGemq7585-",
        "colab_type": "code",
        "colab": {}
      },
      "source": [
        "learn_bin.load('classifier_bin_lmf_1_e1');"
      ],
      "execution_count": 0,
      "outputs": []
    },
    {
      "cell_type": "code",
      "metadata": {
        "id": "zZvxGG306GOz",
        "colab_type": "code",
        "outputId": "ffed1867-7875-4468-c8a0-95b914592713",
        "colab": {
          "base_uri": "https://localhost:8080/",
          "height": 78
        }
      },
      "source": [
        "learn_bin.freeze_to(-2)\n",
        "learn_bin.fit_one_cycle(1, slice(5e-3/2., 5e-3))"
      ],
      "execution_count": 0,
      "outputs": [
        {
          "output_type": "display_data",
          "data": {
            "text/html": [
              "<table border=\"1\" class=\"dataframe\">\n",
              "  <thead>\n",
              "    <tr style=\"text-align: left;\">\n",
              "      <th>epoch</th>\n",
              "      <th>train_loss</th>\n",
              "      <th>valid_loss</th>\n",
              "      <th>accuracy</th>\n",
              "      <th>time</th>\n",
              "    </tr>\n",
              "  </thead>\n",
              "  <tbody>\n",
              "    <tr>\n",
              "      <td>0</td>\n",
              "      <td>0.573268</td>\n",
              "      <td>0.589286</td>\n",
              "      <td>0.708984</td>\n",
              "      <td>09:54</td>\n",
              "    </tr>\n",
              "  </tbody>\n",
              "</table>"
            ],
            "text/plain": [
              "<IPython.core.display.HTML object>"
            ]
          },
          "metadata": {
            "tags": []
          }
        }
      ]
    },
    {
      "cell_type": "code",
      "metadata": {
        "id": "4DYF6umA6JX8",
        "colab_type": "code",
        "outputId": "82520f47-051a-40c9-b512-d010009f58fc",
        "colab": {
          "base_uri": "https://localhost:8080/",
          "height": 78
        }
      },
      "source": [
        "learn_bin.unfreeze()\n",
        "learn_bin.fit_one_cycle(1, slice(2e-3/100, 2e-3))"
      ],
      "execution_count": 0,
      "outputs": [
        {
          "output_type": "display_data",
          "data": {
            "text/html": [
              "<table border=\"1\" class=\"dataframe\">\n",
              "  <thead>\n",
              "    <tr style=\"text-align: left;\">\n",
              "      <th>epoch</th>\n",
              "      <th>train_loss</th>\n",
              "      <th>valid_loss</th>\n",
              "      <th>accuracy</th>\n",
              "      <th>time</th>\n",
              "    </tr>\n",
              "  </thead>\n",
              "  <tbody>\n",
              "    <tr>\n",
              "      <td>0</td>\n",
              "      <td>0.561490</td>\n",
              "      <td>0.589542</td>\n",
              "      <td>0.709961</td>\n",
              "      <td>27:24</td>\n",
              "    </tr>\n",
              "  </tbody>\n",
              "</table>"
            ],
            "text/plain": [
              "<IPython.core.display.HTML object>"
            ]
          },
          "metadata": {
            "tags": []
          }
        }
      ]
    },
    {
      "cell_type": "code",
      "metadata": {
        "id": "oI4qYd0K6nVR",
        "colab_type": "code",
        "colab": {}
      },
      "source": [
        "learn_bin.save('classifier_bin_lmf_1_e3')"
      ],
      "execution_count": 0,
      "outputs": []
    },
    {
      "cell_type": "code",
      "metadata": {
        "id": "OAh90BiMHyHv",
        "colab_type": "code",
        "colab": {}
      },
      "source": [
        "learn_bin.load('classifier_bin_lmf_1_e3');"
      ],
      "execution_count": 0,
      "outputs": []
    },
    {
      "cell_type": "code",
      "metadata": {
        "id": "MTiA6SiPI71q",
        "colab_type": "code",
        "outputId": "775628d8-e8dd-4808-99a5-4f0096afb42a",
        "colab": {
          "base_uri": "https://localhost:8080/",
          "height": 78
        }
      },
      "source": [
        "learn_bin.unfreeze()\n",
        "learn_bin.fit_one_cycle(1, slice(2e-3/100, 2e-3))"
      ],
      "execution_count": 0,
      "outputs": [
        {
          "output_type": "display_data",
          "data": {
            "text/html": [
              "<table border=\"1\" class=\"dataframe\">\n",
              "  <thead>\n",
              "    <tr style=\"text-align: left;\">\n",
              "      <th>epoch</th>\n",
              "      <th>train_loss</th>\n",
              "      <th>valid_loss</th>\n",
              "      <th>accuracy</th>\n",
              "      <th>time</th>\n",
              "    </tr>\n",
              "  </thead>\n",
              "  <tbody>\n",
              "    <tr>\n",
              "      <td>0</td>\n",
              "      <td>0.553042</td>\n",
              "      <td>0.586621</td>\n",
              "      <td>0.711914</td>\n",
              "      <td>28:57</td>\n",
              "    </tr>\n",
              "  </tbody>\n",
              "</table>"
            ],
            "text/plain": [
              "<IPython.core.display.HTML object>"
            ]
          },
          "metadata": {
            "tags": []
          }
        }
      ]
    },
    {
      "cell_type": "code",
      "metadata": {
        "id": "jCC5jDbiSrjb",
        "colab_type": "code",
        "colab": {}
      },
      "source": [
        "learn_bin.save('classifier_bin_lmf_1_e4')"
      ],
      "execution_count": 0,
      "outputs": []
    },
    {
      "cell_type": "code",
      "metadata": {
        "id": "PLjNdwfGic3N",
        "colab_type": "code",
        "colab": {}
      },
      "source": [
        "learn_bin.predict(\"Seven of Americas 10 wealthiest counties are in the Washington, D.C., area.\")"
      ],
      "execution_count": 0,
      "outputs": []
    }
  ]
}