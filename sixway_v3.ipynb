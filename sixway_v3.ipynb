{
  "nbformat": 4,
  "nbformat_minor": 0,
  "metadata": {
    "colab": {
      "name": "sixway_v3.ipynb",
      "version": "0.3.2",
      "provenance": [],
      "collapsed_sections": []
    },
    "kernelspec": {
      "name": "python3",
      "display_name": "Python 3"
    },
    "accelerator": "TPU"
  },
  "cells": [
    {
      "cell_type": "code",
      "metadata": {
        "id": "WFrXj4-o5dx-",
        "colab_type": "code",
        "outputId": "7ff40b4f-4706-4dd2-adba-cdd3ab1bc1a7",
        "colab": {
          "base_uri": "https://localhost:8080/",
          "height": 128
        }
      },
      "source": [
        "from google.colab import drive\n",
        "drive.mount('/content/drive')"
      ],
      "execution_count": 0,
      "outputs": [
        {
          "output_type": "stream",
          "text": [
            "Go to this URL in a browser: https://accounts.google.com/o/oauth2/auth?client_id=947318989803-6bn6qk8qdgf4n4g3pfee6491hc0brc4i.apps.googleusercontent.com&redirect_uri=urn%3Aietf%3Awg%3Aoauth%3A2.0%3Aoob&scope=email%20https%3A%2F%2Fwww.googleapis.com%2Fauth%2Fdocs.test%20https%3A%2F%2Fwww.googleapis.com%2Fauth%2Fdrive%20https%3A%2F%2Fwww.googleapis.com%2Fauth%2Fdrive.photos.readonly%20https%3A%2F%2Fwww.googleapis.com%2Fauth%2Fpeopleapi.readonly&response_type=code\n",
            "\n",
            "Enter your authorization code:\n",
            "··········\n",
            "Mounted at /content/drive\n"
          ],
          "name": "stdout"
        }
      ]
    },
    {
      "cell_type": "code",
      "metadata": {
        "id": "g2bY0d595zN5",
        "colab_type": "code",
        "colab": {}
      },
      "source": [
        "%reload_ext autoreload\n",
        "%autoreload 2\n",
        "%matplotlib inline"
      ],
      "execution_count": 0,
      "outputs": []
    },
    {
      "cell_type": "code",
      "metadata": {
        "id": "P84dAs64rR0V",
        "colab_type": "code",
        "colab": {}
      },
      "source": [
        "from fastai.text import *"
      ],
      "execution_count": 0,
      "outputs": []
    },
    {
      "cell_type": "code",
      "metadata": {
        "id": "Zk03VZs7lmv3",
        "colab_type": "code",
        "colab": {}
      },
      "source": [
        "bs = 10\n",
        "path = '/content/drive/My Drive/Datasets/Liar'\n",
        "data_lm = TextLMDataBunch.from_csv(path, 'trainfinal.csv', text_cols = 1)"
      ],
      "execution_count": 0,
      "outputs": []
    },
    {
      "cell_type": "code",
      "metadata": {
        "id": "XgCfCnd3uEVs",
        "colab_type": "code",
        "outputId": "e01a5213-7517-4d82-d6fc-87bb17d1dd83",
        "colab": {
          "base_uri": "https://localhost:8080/",
          "height": 371
        }
      },
      "source": [
        "data_lm.show_batch()"
      ],
      "execution_count": 0,
      "outputs": [
        {
          "output_type": "display_data",
          "data": {
            "text/html": [
              "<table border=\"1\" class=\"dataframe\">\n",
              "  <thead>\n",
              "    <tr style=\"text-align: right;\">\n",
              "      <th>idx</th>\n",
              "      <th>text</th>\n",
              "    </tr>\n",
              "  </thead>\n",
              "  <tbody>\n",
              "    <tr>\n",
              "      <td>0</td>\n",
              "      <td>a trillion dollars , he would hold unemployment below 8 percent . xxbos xxmaj when ( xxmaj ronald ) xxmaj reagan came in , from 1978 to 1982 , economic growth averaged less than 1 percent a year . xxmaj there s only one other four - year period where that s true . xxmaj that s true from 2008 to 2012 . xxbos xxmaj under xxmaj republicans , recessions</td>\n",
              "    </tr>\n",
              "    <tr>\n",
              "      <td>1</td>\n",
              "      <td>xxbos xxmaj on support for ethanol mandates xxbos xxmaj says nobody in higher education believes xxmaj gov. xxmaj rick xxmaj perrys proposal to serve up $ 10,000 college degrees is possible . xxbos xxmaj says xxmaj xxunk xxmaj xxunk was nominated to serve as a judge on the xxup u.s. xxmaj circuit xxmaj court of xxmaj appeals and was xxunk withdrawn by the administration . xxbos xxmaj xxunk xxmaj xxunk</td>\n",
              "    </tr>\n",
              "    <tr>\n",
              "      <td>2</td>\n",
              "      <td>says his xxunk of xxmaj paint xxmaj xxunk , xxmaj texas , does nt even have a xxup zip code . xxbos xxmaj says xxmaj ron xxmaj johnson voted to turn xxmaj medicare into a voucher program . xxbos xxmaj the 2013 immigration bill expanded xxmaj president xxmaj obamas ability to bring xxmaj syrian refugees to this country without mandating any xxunk background checks . xxbos xxmaj this week the</td>\n",
              "    </tr>\n",
              "    <tr>\n",
              "      <td>3</td>\n",
              "      <td>can absolutely get a gun if you have several felonies as long as you buy it on the xxmaj internet or at a gun show . xxbos xxmaj president xxmaj obamas health care law represents a government takeover of health care . xxbos xxmaj says xxmaj gov. xxmaj scott xxmaj walker signed abortion , sex education and discrimination bills in secret . xxbos xxmaj texas state xxmaj reps . xxmaj</td>\n",
              "    </tr>\n",
              "    <tr>\n",
              "      <td>4</td>\n",
              "      <td>xxbos xxmaj there s no negative advertising in my campaign at all . xxbos xxmaj an average of seven children in xxmaj america are killed by guns every day . xxbos a government analysis shows under a proposed transportation tax , metro xxmaj atlanta will create or support an additional 200,000 new jobs , including jobs that are maintained year over year . xxbos xxmaj say xxmaj ohio xxmaj reps</td>\n",
              "    </tr>\n",
              "  </tbody>\n",
              "</table>"
            ],
            "text/plain": [
              "<IPython.core.display.HTML object>"
            ]
          },
          "metadata": {
            "tags": []
          }
        }
      ]
    },
    {
      "cell_type": "code",
      "metadata": {
        "id": "F-qoiw_HuRTP",
        "colab_type": "code",
        "colab": {}
      },
      "source": [
        "learn_m = language_model_learner(data_lm, AWD_LSTM, drop_mult=0.5)"
      ],
      "execution_count": 0,
      "outputs": []
    },
    {
      "cell_type": "code",
      "metadata": {
        "id": "gsqqFvf_zwcz",
        "colab_type": "code",
        "colab": {}
      },
      "source": [
        "learn_m.lr_find()"
      ],
      "execution_count": 0,
      "outputs": []
    },
    {
      "cell_type": "code",
      "metadata": {
        "id": "7fA6EyCtumwI",
        "colab_type": "code",
        "colab": {}
      },
      "source": [
        "learn_m.recorder.plot(skip_end=15)"
      ],
      "execution_count": 0,
      "outputs": []
    },
    {
      "cell_type": "code",
      "metadata": {
        "id": "MEc99qEausXa",
        "colab_type": "code",
        "outputId": "725e111c-a2c1-4065-9a44-be5e86795b23",
        "colab": {
          "base_uri": "https://localhost:8080/",
          "height": 168
        }
      },
      "source": [
        "#learn_m.fit_one_cycle(4, 1e-2, moms=(0.8,0.7))\n",
        "learn_m.fit_one_cycle(4, 1e-2)"
      ],
      "execution_count": 0,
      "outputs": [
        {
          "output_type": "display_data",
          "data": {
            "text/html": [
              "<table border=\"1\" class=\"dataframe\">\n",
              "  <thead>\n",
              "    <tr style=\"text-align: left;\">\n",
              "      <th>epoch</th>\n",
              "      <th>train_loss</th>\n",
              "      <th>valid_loss</th>\n",
              "      <th>accuracy</th>\n",
              "      <th>time</th>\n",
              "    </tr>\n",
              "  </thead>\n",
              "  <tbody>\n",
              "    <tr>\n",
              "      <td>0</td>\n",
              "      <td>4.414286</td>\n",
              "      <td>3.678842</td>\n",
              "      <td>0.321317</td>\n",
              "      <td>09:04</td>\n",
              "    </tr>\n",
              "    <tr>\n",
              "      <td>1</td>\n",
              "      <td>3.779688</td>\n",
              "      <td>3.381839</td>\n",
              "      <td>0.369420</td>\n",
              "      <td>08:56</td>\n",
              "    </tr>\n",
              "    <tr>\n",
              "      <td>2</td>\n",
              "      <td>3.387979</td>\n",
              "      <td>3.339459</td>\n",
              "      <td>0.376525</td>\n",
              "      <td>08:53</td>\n",
              "    </tr>\n",
              "    <tr>\n",
              "      <td>3</td>\n",
              "      <td>3.158027</td>\n",
              "      <td>3.332176</td>\n",
              "      <td>0.377214</td>\n",
              "      <td>08:52</td>\n",
              "    </tr>\n",
              "  </tbody>\n",
              "</table>"
            ],
            "text/plain": [
              "<IPython.core.display.HTML object>"
            ]
          },
          "metadata": {
            "tags": []
          }
        }
      ]
    },
    {
      "cell_type": "code",
      "metadata": {
        "id": "KVo3rrH0e9cu",
        "colab_type": "code",
        "colab": {}
      },
      "source": [
        "learn_m.save('sixwaylangmodel_lmf_1_e4')"
      ],
      "execution_count": 0,
      "outputs": []
    },
    {
      "cell_type": "code",
      "metadata": {
        "id": "VdHiOFQp9e6g",
        "colab_type": "code",
        "colab": {}
      },
      "source": [
        "TEXT = \"If you got rid of the income\"\n",
        "N_WORDS = 40\n",
        "N_SENTENCES = 2"
      ],
      "execution_count": 0,
      "outputs": []
    },
    {
      "cell_type": "code",
      "metadata": {
        "id": "pfi5U5mF9655",
        "colab_type": "code",
        "outputId": "997685c4-7402-48fe-ef33-f1493749a3b1",
        "colab": {
          "base_uri": "https://localhost:8080/",
          "height": 74
        }
      },
      "source": [
        "print(\"\\n\".join(learn_m.predict(TEXT, N_WORDS, temperature=0.75) for _ in range(N_SENTENCES)))"
      ],
      "execution_count": 0,
      "outputs": [
        {
          "output_type": "stream",
          "text": [
            "If you got rid of the income tax as expected , we could make a good profit . xxbos Says Gov. Scott Walker supports the Keystone XL pipeline . xxbos We have more people working in the private sector than\n",
            "If you got rid of the income tax today today , it was at a lower rate than the average European family . xxbos In 2010 , the U.S. economy was one of the lowest since World War II . xxbos\n"
          ],
          "name": "stdout"
        }
      ]
    },
    {
      "cell_type": "code",
      "metadata": {
        "id": "Sh8s4Y7E-EIh",
        "colab_type": "code",
        "colab": {}
      },
      "source": [
        "learn_m.save_encoder('sixwaylangmodel_lmf_1_e4_enc')"
      ],
      "execution_count": 0,
      "outputs": []
    },
    {
      "cell_type": "markdown",
      "metadata": {
        "id": "MpfjVgtGIgXp",
        "colab_type": "text"
      },
      "source": [
        "Six way Classifier construction"
      ]
    },
    {
      "cell_type": "code",
      "metadata": {
        "id": "kdQR9d8c_uRX",
        "colab_type": "code",
        "colab": {}
      },
      "source": [
        "bs = 10\n",
        "data_path = '/content/drive/My Drive/Datasets/Liar/'\n",
        "data_clas = TextClasDataBunch.from_csv(data_path, 'trainfinal.csv', text_cols=1, label_cols=0, vocab = data_lm.train_ds.vocab,bs=32)\n",
        "data_clas.save('data_clas_lmf_1_csv.pkl')"
      ],
      "execution_count": 0,
      "outputs": []
    },
    {
      "cell_type": "code",
      "metadata": {
        "id": "Wd8mN6EUArKk",
        "colab_type": "code",
        "colab": {}
      },
      "source": [
        "path ='/content/drive/My Drive/Datasets/Liar'\n",
        "data_clas = load_data(path, 'data_clas_lmf_1_csv.pkl', bs=16)"
      ],
      "execution_count": 0,
      "outputs": []
    },
    {
      "cell_type": "code",
      "metadata": {
        "id": "2a6l6jMCBTcl",
        "colab_type": "code",
        "outputId": "5db45a27-460b-4f06-bfad-7cae77fceab2",
        "colab": {
          "base_uri": "https://localhost:8080/",
          "height": 354
        }
      },
      "source": [
        "data_clas.show_batch()"
      ],
      "execution_count": 0,
      "outputs": [
        {
          "output_type": "display_data",
          "data": {
            "text/html": [
              "<table border=\"1\" class=\"dataframe\">\n",
              "  <thead>\n",
              "    <tr style=\"text-align: right;\">\n",
              "      <th>text</th>\n",
              "      <th>target</th>\n",
              "    </tr>\n",
              "  </thead>\n",
              "  <tbody>\n",
              "    <tr>\n",
              "      <td>xxbos xxmaj barbara xxmaj buono by the numbers : xxmaj as a xxmaj trenton politician , she voted to raise taxes 154 times . xxmaj under her , property taxes up 70 percent . xxmaj backed a 16 percent sales tax increase . xxmaj utilities , nursing homes , cell phones , parking lots , lottery wins , xxunk xxmaj she taxed them all . xxmaj architect of xxmaj xxunk</td>\n",
              "      <td>mostly-true</td>\n",
              "    </tr>\n",
              "    <tr>\n",
              "      <td>xxbos xxmaj when xxmaj donald xxmaj trump spoke in xxmaj phoenix , he looked the audience in the eye and he said no , were building a wall and were deporting everybody . xxmaj he said , quote , they will all be gone . xxmaj they will all be gone . xxmaj this is one of the ones where you can go to the tape on it and see</td>\n",
              "      <td>half-true</td>\n",
              "    </tr>\n",
              "    <tr>\n",
              "      <td>xxbos xxmaj we spend more money on health care per capita in the xxmaj united xxmaj states than any other country in the world . xxmaj of the 30 developed countries in the world , we spend 2 1 / 2 times more than the average . xxmaj of the country that spends the second most per capita , xxmaj switzerland , we spend 175 percent more .</td>\n",
              "      <td>half-true</td>\n",
              "    </tr>\n",
              "    <tr>\n",
              "      <td>xxbos xxmaj the xxup r.i. xxmaj turnpike and xxmaj bridge xxmaj authority was supposed to exist only until the bonds used to build the xxmaj newport xxmaj bridge were paid off through tolls . xxmaj once the bonds were paid , the xxmaj newport xxmaj bridge was to be transferred to the xxmaj state of xxmaj rhode xxmaj island and become toll - free .</td>\n",
              "      <td>mostly-true</td>\n",
              "    </tr>\n",
              "    <tr>\n",
              "      <td>xxbos xxmaj chicago xxmaj public xxmaj schools lead the country in high school graduation of an urban school system , match the xxmaj united xxmaj states of xxmaj america in kids graduating high school going on to a four - year college , and are producing eighth - grade leaders in the country in math gains , fourth - grade leaders in reading gains .</td>\n",
              "      <td>mostly-true</td>\n",
              "    </tr>\n",
              "  </tbody>\n",
              "</table>"
            ],
            "text/plain": [
              "<IPython.core.display.HTML object>"
            ]
          },
          "metadata": {
            "tags": []
          }
        }
      ]
    },
    {
      "cell_type": "code",
      "metadata": {
        "id": "brtgpxR4BbTy",
        "colab_type": "code",
        "colab": {}
      },
      "source": [
        "#data_clas.vocab.itos = data_lm.vocab.itos\n",
        "learn_c3 = text_classifier_learner(data_clas, AWD_LSTM, drop_mult=0.5)\n",
        "learn_c3.load_encoder('sixwaylangmodel_lmf_1_e4_enc')"
      ],
      "execution_count": 0,
      "outputs": []
    },
    {
      "cell_type": "code",
      "metadata": {
        "id": "OUvCIKAuDsha",
        "colab_type": "code",
        "outputId": "8c9d82fc-fecd-4e8b-f75a-5ebc884d00ec",
        "colab": {
          "base_uri": "https://localhost:8080/",
          "height": 35
        }
      },
      "source": [
        "learn_c3.lr_find()"
      ],
      "execution_count": 0,
      "outputs": [
        {
          "output_type": "display_data",
          "data": {
            "text/html": [
              ""
            ],
            "text/plain": [
              "<IPython.core.display.HTML object>"
            ]
          },
          "metadata": {
            "tags": []
          }
        },
        {
          "output_type": "stream",
          "text": [
            "LR Finder is complete, type {learner_name}.recorder.plot() to see the graph.\n"
          ],
          "name": "stdout"
        }
      ]
    },
    {
      "cell_type": "code",
      "metadata": {
        "id": "EQaJlWaNEGVB",
        "colab_type": "code",
        "outputId": "6893bf6e-c831-4489-8272-44be9b07e3b1",
        "colab": {
          "base_uri": "https://localhost:8080/",
          "height": 284
        }
      },
      "source": [
        "learn_c3.recorder.plot()"
      ],
      "execution_count": 0,
      "outputs": [
        {
          "output_type": "display_data",
          "data": {
            "image/png": "[encoded data removed]",
            "text/plain": [
              "<Figure size 432x288 with 1 Axes>"
            ]
          },
          "metadata": {
            "tags": []
          }
        }
      ]
    },
    {
      "cell_type": "code",
      "metadata": {
        "id": "TLciZ88jEUWN",
        "colab_type": "code",
        "outputId": "905ada1f-40e8-468f-8206-d7a4848fe828",
        "colab": {
          "base_uri": "https://localhost:8080/",
          "height": 78
        }
      },
      "source": [
        "#learn_c2.fit_one_cycle(1, 1e-2, moms=(0.8,0.7))\n",
        "learn_c3.fit_one_cycle(1, 1e-2)"
      ],
      "execution_count": 0,
      "outputs": [
        {
          "output_type": "display_data",
          "data": {
            "text/html": [
              "<table border=\"1\" class=\"dataframe\">\n",
              "  <thead>\n",
              "    <tr style=\"text-align: left;\">\n",
              "      <th>epoch</th>\n",
              "      <th>train_loss</th>\n",
              "      <th>valid_loss</th>\n",
              "      <th>accuracy</th>\n",
              "      <th>time</th>\n",
              "    </tr>\n",
              "  </thead>\n",
              "  <tbody>\n",
              "    <tr>\n",
              "      <td>0</td>\n",
              "      <td>1.741288</td>\n",
              "      <td>1.717358</td>\n",
              "      <td>0.232422</td>\n",
              "      <td>08:10</td>\n",
              "    </tr>\n",
              "  </tbody>\n",
              "</table>"
            ],
            "text/plain": [
              "<IPython.core.display.HTML object>"
            ]
          },
          "metadata": {
            "tags": []
          }
        }
      ]
    },
    {
      "cell_type": "code",
      "metadata": {
        "id": "Pvebsjp7HWUG",
        "colab_type": "code",
        "colab": {}
      },
      "source": [
        "learn_c3.save('classifier_sixway_lmf_1_e1')"
      ],
      "execution_count": 0,
      "outputs": []
    },
    {
      "cell_type": "code",
      "metadata": {
        "id": "YoHOG13zHeGC",
        "colab_type": "code",
        "colab": {}
      },
      "source": [
        "learn_c3.load('classifier_sixway_lmf_1_e1');"
      ],
      "execution_count": 0,
      "outputs": []
    },
    {
      "cell_type": "code",
      "metadata": {
        "id": "y9w7pO-uH1Sb",
        "colab_type": "code",
        "outputId": "fcd82b7f-0b87-44dd-8dba-232b882a5bbf",
        "colab": {
          "base_uri": "https://localhost:8080/",
          "height": 78
        }
      },
      "source": [
        "learn_c3.freeze_to(-2)\n",
        "learn_c3.fit_one_cycle(1, slice(5e-3/2., 5e-3))"
      ],
      "execution_count": 0,
      "outputs": [
        {
          "output_type": "display_data",
          "data": {
            "text/html": [
              "<table border=\"1\" class=\"dataframe\">\n",
              "  <thead>\n",
              "    <tr style=\"text-align: left;\">\n",
              "      <th>epoch</th>\n",
              "      <th>train_loss</th>\n",
              "      <th>valid_loss</th>\n",
              "      <th>accuracy</th>\n",
              "      <th>time</th>\n",
              "    </tr>\n",
              "  </thead>\n",
              "  <tbody>\n",
              "    <tr>\n",
              "      <td>0</td>\n",
              "      <td>1.721372</td>\n",
              "      <td>1.707962</td>\n",
              "      <td>0.238281</td>\n",
              "      <td>11:22</td>\n",
              "    </tr>\n",
              "  </tbody>\n",
              "</table>"
            ],
            "text/plain": [
              "<IPython.core.display.HTML object>"
            ]
          },
          "metadata": {
            "tags": []
          }
        }
      ]
    },
    {
      "cell_type": "code",
      "metadata": {
        "id": "x2QBPqNSlOKQ",
        "colab_type": "code",
        "outputId": "7f0e3eaa-f3cc-4064-aafa-6b5606eeba25",
        "colab": {
          "base_uri": "https://localhost:8080/",
          "height": 78
        }
      },
      "source": [
        "learn_c3.unfreeze()\n",
        "learn_c3.fit_one_cycle(1, slice(2e-3/100, 2e-3))"
      ],
      "execution_count": 0,
      "outputs": [
        {
          "output_type": "display_data",
          "data": {
            "text/html": [
              "<table border=\"1\" class=\"dataframe\">\n",
              "  <thead>\n",
              "    <tr style=\"text-align: left;\">\n",
              "      <th>epoch</th>\n",
              "      <th>train_loss</th>\n",
              "      <th>valid_loss</th>\n",
              "      <th>accuracy</th>\n",
              "      <th>time</th>\n",
              "    </tr>\n",
              "  </thead>\n",
              "  <tbody>\n",
              "    <tr>\n",
              "      <td>0</td>\n",
              "      <td>1.689436</td>\n",
              "      <td>1.701268</td>\n",
              "      <td>0.247559</td>\n",
              "      <td>32:21</td>\n",
              "    </tr>\n",
              "  </tbody>\n",
              "</table>"
            ],
            "text/plain": [
              "<IPython.core.display.HTML object>"
            ]
          },
          "metadata": {
            "tags": []
          }
        }
      ]
    },
    {
      "cell_type": "code",
      "metadata": {
        "id": "oeFvRqvxu3Jq",
        "colab_type": "code",
        "colab": {}
      },
      "source": [
        "learn_c3.save('classifier_sixway_lmf_1_e3')"
      ],
      "execution_count": 0,
      "outputs": []
    },
    {
      "cell_type": "code",
      "metadata": {
        "id": "HzvKyN0jvbOT",
        "colab_type": "code",
        "colab": {}
      },
      "source": [
        "learn_c3.load('classifier_sixway_lmf_1_e3');"
      ],
      "execution_count": 0,
      "outputs": []
    },
    {
      "cell_type": "code",
      "metadata": {
        "id": "ydUK1ZP4txhR",
        "colab_type": "code",
        "outputId": "fcfdfc20-45aa-432c-9de1-8cd3788bc981",
        "colab": {
          "base_uri": "https://localhost:8080/",
          "height": 72
        }
      },
      "source": [
        "learn_c3.predict(\"Seven of Americas 10 wealthiest counties are in the Washington, D.C., area.\")"
      ],
      "execution_count": 0,
      "outputs": [
        {
          "output_type": "execute_result",
          "data": {
            "text/plain": [
              "(Category mostly-true,\n",
              " tensor(4),\n",
              " tensor([0.0950, 0.2561, 0.0474, 0.1852, 0.3992, 0.0170]))"
            ]
          },
          "metadata": {
            "tags": []
          },
          "execution_count": 26
        }
      ]
    }
  ]
}